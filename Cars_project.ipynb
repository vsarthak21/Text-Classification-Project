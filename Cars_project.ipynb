{
  "nbformat": 4,
  "nbformat_minor": 0,
  "metadata": {
    "colab": {
      "name": "Cars_project.ipynb",
      "version": "0.3.2",
      "views": {},
      "default_view": {},
      "provenance": [],
      "collapsed_sections": []
    },
    "kernelspec": {
      "display_name": "Python 3",
      "language": "python",
      "name": "python3"
    }
  },
  "cells": [
    {
      "metadata": {
        "id": "cwDoSGwdy_yx",
        "colab_type": "code",
        "colab": {
          "autoexec": {
            "startup": false,
            "wait_interval": 0
          }
        }
      },
      "cell_type": "code",
      "source": [
        "import numpy as np\n",
        "import pandas as pd"
      ],
      "execution_count": 0,
      "outputs": []
    },
    {
      "metadata": {
        "id": "ng0It__10Esb",
        "colab_type": "code",
        "colab": {
          "autoexec": {
            "startup": false,
            "wait_interval": 0
          },
          "resources": {
            "http://localhost:8080/nbextensions/google.colab/files.js": {
              "data": "Ly8gQ29weXJpZ2h0IDIwMTcgR29vZ2xlIExMQwovLwovLyBMaWNlbnNlZCB1bmRlciB0aGUgQXBhY2hlIExpY2Vuc2UsIFZlcnNpb24gMi4wICh0aGUgIkxpY2Vuc2UiKTsKLy8geW91IG1heSBub3QgdXNlIHRoaXMgZmlsZSBleGNlcHQgaW4gY29tcGxpYW5jZSB3aXRoIHRoZSBMaWNlbnNlLgovLyBZb3UgbWF5IG9idGFpbiBhIGNvcHkgb2YgdGhlIExpY2Vuc2UgYXQKLy8KLy8gICAgICBodHRwOi8vd3d3LmFwYWNoZS5vcmcvbGljZW5zZXMvTElDRU5TRS0yLjAKLy8KLy8gVW5sZXNzIHJlcXVpcmVkIGJ5IGFwcGxpY2FibGUgbGF3IG9yIGFncmVlZCB0byBpbiB3cml0aW5nLCBzb2Z0d2FyZQovLyBkaXN0cmlidXRlZCB1bmRlciB0aGUgTGljZW5zZSBpcyBkaXN0cmlidXRlZCBvbiBhbiAiQVMgSVMiIEJBU0lTLAovLyBXSVRIT1VUIFdBUlJBTlRJRVMgT1IgQ09ORElUSU9OUyBPRiBBTlkgS0lORCwgZWl0aGVyIGV4cHJlc3Mgb3IgaW1wbGllZC4KLy8gU2VlIHRoZSBMaWNlbnNlIGZvciB0aGUgc3BlY2lmaWMgbGFuZ3VhZ2UgZ292ZXJuaW5nIHBlcm1pc3Npb25zIGFuZAovLyBsaW1pdGF0aW9ucyB1bmRlciB0aGUgTGljZW5zZS4KCi8qKgogKiBAZmlsZW92ZXJ2aWV3IEhlbHBlcnMgZm9yIGdvb2dsZS5jb2xhYiBQeXRob24gbW9kdWxlLgogKi8KKGZ1bmN0aW9uKHNjb3BlKSB7CmZ1bmN0aW9uIHNwYW4odGV4dCwgc3R5bGVBdHRyaWJ1dGVzID0ge30pIHsKICBjb25zdCBlbGVtZW50ID0gZG9jdW1lbnQuY3JlYXRlRWxlbWVudCgnc3BhbicpOwogIGVsZW1lbnQudGV4dENvbnRlbnQgPSB0ZXh0OwogIGZvciAoY29uc3Qga2V5IG9mIE9iamVjdC5rZXlzKHN0eWxlQXR0cmlidXRlcykpIHsKICAgIGVsZW1lbnQuc3R5bGVba2V5XSA9IHN0eWxlQXR0cmlidXRlc1trZXldOwogIH0KICByZXR1cm4gZWxlbWVudDsKfQoKLy8gTWF4IG51bWJlciBvZiBieXRlcyB3aGljaCB3aWxsIGJlIHVwbG9hZGVkIGF0IGEgdGltZS4KY29uc3QgTUFYX1BBWUxPQURfU0laRSA9IDEwMCAqIDEwMjQ7Ci8vIE1heCBhbW91bnQgb2YgdGltZSB0byBibG9jayB3YWl0aW5nIGZvciB0aGUgdXNlci4KY29uc3QgRklMRV9DSEFOR0VfVElNRU9VVF9NUyA9IDMwICogMTAwMDsKCmZ1bmN0aW9uIF91cGxvYWRGaWxlcyhpbnB1dElkLCBvdXRwdXRJZCkgewogIGNvbnN0IHN0ZXBzID0gdXBsb2FkRmlsZXNTdGVwKGlucHV0SWQsIG91dHB1dElkKTsKICBjb25zdCBvdXRwdXRFbGVtZW50ID0gZG9jdW1lbnQuZ2V0RWxlbWVudEJ5SWQob3V0cHV0SWQpOwogIC8vIENhY2hlIHN0ZXBzIG9uIHRoZSBvdXRwdXRFbGVtZW50IHRvIG1ha2UgaXQgYXZhaWxhYmxlIGZvciB0aGUgbmV4dCBjYWxsCiAgLy8gdG8gdXBsb2FkRmlsZXNDb250aW51ZSBmcm9tIFB5dGhvbi4KICBvdXRwdXRFbGVtZW50LnN0ZXBzID0gc3RlcHM7CgogIHJldHVybiBfdXBsb2FkRmlsZXNDb250aW51ZShvdXRwdXRJZCk7Cn0KCi8vIFRoaXMgaXMgcm91Z2hseSBhbiBhc3luYyBnZW5lcmF0b3IgKG5vdCBzdXBwb3J0ZWQgaW4gdGhlIGJyb3dzZXIgeWV0KSwKLy8gd2hlcmUgdGhlcmUgYXJlIG11bHRpcGxlIGFzeW5jaHJvbm91cyBzdGVwcyBhbmQgdGhlIFB5dGhvbiBzaWRlIGlzIGdvaW5nCi8vIHRvIHBvbGwgZm9yIGNvbXBsZXRpb24gb2YgZWFjaCBzdGVwLgovLyBUaGlzIHVzZXMgYSBQcm9taXNlIHRvIGJsb2NrIHRoZSBweXRob24gc2lkZSBvbiBjb21wbGV0aW9uIG9mIGVhY2ggc3RlcCwKLy8gdGhlbiBwYXNzZXMgdGhlIHJlc3VsdCBvZiB0aGUgcHJldmlvdXMgc3RlcCBhcyB0aGUgaW5wdXQgdG8gdGhlIG5leHQgc3RlcC4KZnVuY3Rpb24gX3VwbG9hZEZpbGVzQ29udGludWUob3V0cHV0SWQpIHsKICBjb25zdCBvdXRwdXRFbGVtZW50ID0gZG9jdW1lbnQuZ2V0RWxlbWVudEJ5SWQob3V0cHV0SWQpOwogIGNvbnN0IHN0ZXBzID0gb3V0cHV0RWxlbWVudC5zdGVwczsKCiAgY29uc3QgbmV4dCA9IHN0ZXBzLm5leHQob3V0cHV0RWxlbWVudC5sYXN0UHJvbWlzZVZhbHVlKTsKICByZXR1cm4gUHJvbWlzZS5yZXNvbHZlKG5leHQudmFsdWUucHJvbWlzZSkudGhlbigodmFsdWUpID0+IHsKICAgIC8vIENhY2hlIHRoZSBsYXN0IHByb21pc2UgdmFsdWUgdG8gbWFrZSBpdCBhdmFpbGFibGUgdG8gdGhlIG5leHQKICAgIC8vIHN0ZXAgb2YgdGhlIGdlbmVyYXRvci4KICAgIG91dHB1dEVsZW1lbnQubGFzdFByb21pc2VWYWx1ZSA9IHZhbHVlOwogICAgcmV0dXJuIG5leHQudmFsdWUucmVzcG9uc2U7CiAgfSk7Cn0KCi8qKgogKiBHZW5lcmF0b3IgZnVuY3Rpb24gd2hpY2ggaXMgY2FsbGVkIGJldHdlZW4gZWFjaCBhc3luYyBzdGVwIG9mIHRoZSB1cGxvYWQKICogcHJvY2Vzcy4KICogQHBhcmFtIHtzdHJpbmd9IGlucHV0SWQgRWxlbWVudCBJRCBvZiB0aGUgaW5wdXQgZmlsZSBwaWNrZXIgZWxlbWVudC4KICogQHBhcmFtIHtzdHJpbmd9IG91dHB1dElkIEVsZW1lbnQgSUQgb2YgdGhlIG91dHB1dCBkaXNwbGF5LgogKiBAcmV0dXJuIHshSXRlcmFibGU8IU9iamVjdD59IEl0ZXJhYmxlIG9mIG5leHQgc3RlcHMuCiAqLwpmdW5jdGlvbiogdXBsb2FkRmlsZXNTdGVwKGlucHV0SWQsIG91dHB1dElkKSB7CiAgY29uc3QgaW5wdXRFbGVtZW50ID0gZG9jdW1lbnQuZ2V0RWxlbWVudEJ5SWQoaW5wdXRJZCk7CiAgaW5wdXRFbGVtZW50LmRpc2FibGVkID0gZmFsc2U7CgogIGNvbnN0IG91dHB1dEVsZW1lbnQgPSBkb2N1bWVudC5nZXRFbGVtZW50QnlJZChvdXRwdXRJZCk7CiAgb3V0cHV0RWxlbWVudC5pbm5lckhUTUwgPSAnJzsKCiAgY29uc3QgcGlja2VkUHJvbWlzZSA9IG5ldyBQcm9taXNlKChyZXNvbHZlKSA9PiB7CiAgICBpbnB1dEVsZW1lbnQuYWRkRXZlbnRMaXN0ZW5lcignY2hhbmdlJywgKGUpID0+IHsKICAgICAgcmVzb2x2ZShlLnRhcmdldC5maWxlcyk7CiAgICB9KTsKICB9KTsKCiAgY29uc3QgY2FuY2VsID0gZG9jdW1lbnQuY3JlYXRlRWxlbWVudCgnYnV0dG9uJyk7CiAgaW5wdXRFbGVtZW50LnBhcmVudEVsZW1lbnQuYXBwZW5kQ2hpbGQoY2FuY2VsKTsKICBjYW5jZWwudGV4dENvbnRlbnQgPSAnQ2FuY2VsIHVwbG9hZCc7CiAgY29uc3QgY2FuY2VsUHJvbWlzZSA9IG5ldyBQcm9taXNlKChyZXNvbHZlKSA9PiB7CiAgICBjYW5jZWwub25jbGljayA9ICgpID0+IHsKICAgICAgcmVzb2x2ZShudWxsKTsKICAgIH07CiAgfSk7CgogIC8vIENhbmNlbCB1cGxvYWQgaWYgdXNlciBoYXNuJ3QgcGlja2VkIGFueXRoaW5nIGluIHRpbWVvdXQuCiAgY29uc3QgdGltZW91dFByb21pc2UgPSBuZXcgUHJvbWlzZSgocmVzb2x2ZSkgPT4gewogICAgc2V0VGltZW91dCgoKSA9PiB7CiAgICAgIHJlc29sdmUobnVsbCk7CiAgICB9LCBGSUxFX0NIQU5HRV9USU1FT1VUX01TKTsKICB9KTsKCiAgLy8gV2FpdCBmb3IgdGhlIHVzZXIgdG8gcGljayB0aGUgZmlsZXMuCiAgY29uc3QgZmlsZXMgPSB5aWVsZCB7CiAgICBwcm9taXNlOiBQcm9taXNlLnJhY2UoW3BpY2tlZFByb21pc2UsIHRpbWVvdXRQcm9taXNlLCBjYW5jZWxQcm9taXNlXSksCiAgICByZXNwb25zZTogewogICAgICBhY3Rpb246ICdzdGFydGluZycsCiAgICB9CiAgfTsKCiAgaWYgKCFmaWxlcykgewogICAgcmV0dXJuIHsKICAgICAgcmVzcG9uc2U6IHsKICAgICAgICBhY3Rpb246ICdjb21wbGV0ZScsCiAgICAgIH0KICAgIH07CiAgfQoKICBjYW5jZWwucmVtb3ZlKCk7CgogIC8vIERpc2FibGUgdGhlIGlucHV0IGVsZW1lbnQgc2luY2UgZnVydGhlciBwaWNrcyBhcmUgbm90IGFsbG93ZWQuCiAgaW5wdXRFbGVtZW50LmRpc2FibGVkID0gdHJ1ZTsKCiAgZm9yIChjb25zdCBmaWxlIG9mIGZpbGVzKSB7CiAgICBjb25zdCBsaSA9IGRvY3VtZW50LmNyZWF0ZUVsZW1lbnQoJ2xpJyk7CiAgICBsaS5hcHBlbmQoc3BhbihmaWxlLm5hbWUsIHtmb250V2VpZ2h0OiAnYm9sZCd9KSk7CiAgICBsaS5hcHBlbmQoc3BhbigKICAgICAgICBgKCR7ZmlsZS50eXBlIHx8ICduL2EnfSkgLSAke2ZpbGUuc2l6ZX0gYnl0ZXMsIGAgKwogICAgICAgIGBsYXN0IG1vZGlmaWVkOiAkewogICAgICAgICAgICBmaWxlLmxhc3RNb2RpZmllZERhdGUgPyBmaWxlLmxhc3RNb2RpZmllZERhdGUudG9Mb2NhbGVEYXRlU3RyaW5nKCkgOgogICAgICAgICAgICAgICAgICAgICAgICAgICAgICAgICAgICAnbi9hJ30gLSBgKSk7CiAgICBjb25zdCBwZXJjZW50ID0gc3BhbignMCUgZG9uZScpOwogICAgbGkuYXBwZW5kQ2hpbGQocGVyY2VudCk7CgogICAgb3V0cHV0RWxlbWVudC5hcHBlbmRDaGlsZChsaSk7CgogICAgY29uc3QgZmlsZURhdGFQcm9taXNlID0gbmV3IFByb21pc2UoKHJlc29sdmUpID0+IHsKICAgICAgY29uc3QgcmVhZGVyID0gbmV3IEZpbGVSZWFkZXIoKTsKICAgICAgcmVhZGVyLm9ubG9hZCA9IChlKSA9PiB7CiAgICAgICAgcmVzb2x2ZShlLnRhcmdldC5yZXN1bHQpOwogICAgICB9OwogICAgICByZWFkZXIucmVhZEFzQXJyYXlCdWZmZXIoZmlsZSk7CiAgICB9KTsKICAgIC8vIFdhaXQgZm9yIHRoZSBkYXRhIHRvIGJlIHJlYWR5LgogICAgbGV0IGZpbGVEYXRhID0geWllbGQgewogICAgICBwcm9taXNlOiBmaWxlRGF0YVByb21pc2UsCiAgICAgIHJlc3BvbnNlOiB7CiAgICAgICAgYWN0aW9uOiAnY29udGludWUnLAogICAgICB9CiAgICB9OwoKICAgIC8vIFVzZSBhIGNodW5rZWQgc2VuZGluZyB0byBhdm9pZCBtZXNzYWdlIHNpemUgbGltaXRzLiBTZWUgYi82MjExNTY2MC4KICAgIGxldCBwb3NpdGlvbiA9IDA7CiAgICB3aGlsZSAocG9zaXRpb24gPCBmaWxlRGF0YS5ieXRlTGVuZ3RoKSB7CiAgICAgIGNvbnN0IGxlbmd0aCA9IE1hdGgubWluKGZpbGVEYXRhLmJ5dGVMZW5ndGggLSBwb3NpdGlvbiwgTUFYX1BBWUxPQURfU0laRSk7CiAgICAgIGNvbnN0IGNodW5rID0gbmV3IFVpbnQ4QXJyYXkoZmlsZURhdGEsIHBvc2l0aW9uLCBsZW5ndGgpOwogICAgICBwb3NpdGlvbiArPSBsZW5ndGg7CgogICAgICBjb25zdCBiYXNlNjQgPSBidG9hKFN0cmluZy5mcm9tQ2hhckNvZGUuYXBwbHkobnVsbCwgY2h1bmspKTsKICAgICAgeWllbGQgewogICAgICAgIHJlc3BvbnNlOiB7CiAgICAgICAgICBhY3Rpb246ICdhcHBlbmQnLAogICAgICAgICAgZmlsZTogZmlsZS5uYW1lLAogICAgICAgICAgZGF0YTogYmFzZTY0LAogICAgICAgIH0sCiAgICAgIH07CiAgICAgIHBlcmNlbnQudGV4dENvbnRlbnQgPQogICAgICAgICAgYCR7TWF0aC5yb3VuZCgocG9zaXRpb24gLyBmaWxlRGF0YS5ieXRlTGVuZ3RoKSAqIDEwMCl9JSBkb25lYDsKICAgIH0KICB9CgogIC8vIEFsbCBkb25lLgogIHlpZWxkIHsKICAgIHJlc3BvbnNlOiB7CiAgICAgIGFjdGlvbjogJ2NvbXBsZXRlJywKICAgIH0KICB9Owp9CgpzY29wZS5nb29nbGUgPSBzY29wZS5nb29nbGUgfHwge307CnNjb3BlLmdvb2dsZS5jb2xhYiA9IHNjb3BlLmdvb2dsZS5jb2xhYiB8fCB7fTsKc2NvcGUuZ29vZ2xlLmNvbGFiLl9maWxlcyA9IHsKICBfdXBsb2FkRmlsZXMsCiAgX3VwbG9hZEZpbGVzQ29udGludWUsCn07Cn0pKHNlbGYpOwo=",
              "ok": true,
              "headers": [
                [
                  "content-type",
                  "application/javascript"
                ]
              ],
              "status": 200,
              "status_text": ""
            }
          },
          "base_uri": "https://localhost:8080/",
          "height": 107
        },
        "outputId": "18826393-6d78-4204-fe8c-40a24bf16fcb",
        "executionInfo": {
          "status": "ok",
          "timestamp": 1527774163262,
          "user_tz": -330,
          "elapsed": 1122256,
          "user": {
            "displayName": "Sarthak Vashisht",
            "photoUrl": "//lh5.googleusercontent.com/-1rN51ngNn7Q/AAAAAAAAAAI/AAAAAAAAAAs/NmFuFNKqIGM/s50-c-k-no/photo.jpg",
            "userId": "104817971489841175541"
          }
        }
      },
      "cell_type": "code",
      "source": [
        "from google.colab import files\n",
        "uploaded = files.upload()"
      ],
      "execution_count": 171,
      "outputs": [
        {
          "output_type": "display_data",
          "data": {
            "text/html": [
              "\n",
              "     <input type=\"file\" id=\"files-ad4d4e8e-331f-48c3-b214-f0dc899fa26d\" name=\"files[]\" multiple disabled />\n",
              "     <output id=\"result-ad4d4e8e-331f-48c3-b214-f0dc899fa26d\">\n",
              "      Upload widget is only available when the cell has been executed in the\n",
              "      current browser session. Please rerun this cell to enable.\n",
              "      </output>\n",
              "      <script src=\"/nbextensions/google.colab/files.js\"></script> "
            ],
            "text/plain": [
              "<IPython.core.display.HTML object>"
            ]
          },
          "metadata": {
            "tags": []
          }
        },
        {
          "output_type": "stream",
          "text": [
            "Saving car_x_y_train.csv to car_x_y_train (1).csv\n",
            "Saving cars_test.csv to cars_test.csv\n"
          ],
          "name": "stdout"
        }
      ]
    },
    {
      "metadata": {
        "id": "9MUPmbVcy_y2",
        "colab_type": "code",
        "colab": {
          "autoexec": {
            "startup": false,
            "wait_interval": 0
          },
          "base_uri": "https://localhost:8080/",
          "height": 34
        },
        "outputId": "fee98aa3-fbc9-4dcb-e52d-36dd8d33b1c3",
        "executionInfo": {
          "status": "ok",
          "timestamp": 1527775405720,
          "user_tz": -330,
          "elapsed": 3003,
          "user": {
            "displayName": "Sarthak Vashisht",
            "photoUrl": "//lh5.googleusercontent.com/-1rN51ngNn7Q/AAAAAAAAAAI/AAAAAAAAAAs/NmFuFNKqIGM/s50-c-k-no/photo.jpg",
            "userId": "104817971489841175541"
          }
        }
      },
      "cell_type": "code",
      "source": [
        "df = pd.read_csv('car_x_y_train.csv')\n",
        "dft = pd.read_csv('cars_test.csv')\n",
        "dft.shape"
      ],
      "execution_count": 240,
      "outputs": [
        {
          "output_type": "execute_result",
          "data": {
            "text/plain": [
              "(74306, 19)"
            ]
          },
          "metadata": {
            "tags": []
          },
          "execution_count": 240
        }
      ]
    },
    {
      "metadata": {
        "id": "L3Dz7KE0y_zD",
        "colab_type": "raw"
      },
      "cell_type": "markdown",
      "source": [
        "1. dateCrawled : when this ad was first crawled, all field-values are taken from this date\n",
        "2. name : \"name\" of the car\n",
        "3. seller : private or dealer\n",
        "4. offerType\n",
        "5. price : the price on the ad to sell the car \n",
        "6. abtest\n",
        "7. vehicleType\n",
        "8. yearOfRegistration : at which year the car was first registered\n",
        "9. gearbox\n",
        "10. powerPS : power of the car in PS \n",
        "11. model\n",
        "12. kilometer : how many kilometers the car has driven\n",
        "13. monthOfRegistration : at which month the car was first registered\n",
        "14. fuelType\n",
        "15. brand\n",
        "16. notRepairedDamage : if the car has a damage which is not repaired yet\n",
        "17. dateCreated : the date for which the ad at ebay was created\n",
        "18. nrOfPictures : number of pictures in the ad \n",
        "postalCode\n",
        "19. lastSeenOnline : when the crawler saw this ad last online"
      ]
    },
    {
      "metadata": {
        "id": "sy0SsV13y_zE",
        "colab_type": "code",
        "colab": {
          "autoexec": {
            "startup": false,
            "wait_interval": 0
          }
        }
      },
      "cell_type": "code",
      "source": [
        "del df['dateCrawled']\n",
        "del df['name']\n",
        "del df['dateCreated']\n",
        "del df['postalCode']\n",
        "del df['nrOfPictures']\n",
        "del df['lastSeen']"
      ],
      "execution_count": 0,
      "outputs": []
    },
    {
      "metadata": {
        "id": "ESuzKBAKy_zI",
        "colab_type": "code",
        "colab": {
          "autoexec": {
            "startup": false,
            "wait_interval": 0
          }
        }
      },
      "cell_type": "code",
      "source": [
        "del dft['dateCrawled']\n",
        "del dft['name']\n",
        "del dft['dateCreated']\n",
        "del dft['postalCode']\n",
        "del dft['nrOfPictures']\n",
        "del dft['lastSeen']"
      ],
      "execution_count": 0,
      "outputs": []
    },
    {
      "metadata": {
        "id": "bupj9LSZy_zO",
        "colab_type": "code",
        "colab": {
          "autoexec": {
            "startup": false,
            "wait_interval": 0
          },
          "base_uri": "https://localhost:8080/",
          "height": 85
        },
        "outputId": "c9bc00cf-817e-4b58-847f-2d14fb1c68d1",
        "executionInfo": {
          "status": "ok",
          "timestamp": 1527775416090,
          "user_tz": -330,
          "elapsed": 981,
          "user": {
            "displayName": "Sarthak Vashisht",
            "photoUrl": "//lh5.googleusercontent.com/-1rN51ngNn7Q/AAAAAAAAAAI/AAAAAAAAAAs/NmFuFNKqIGM/s50-c-k-no/photo.jpg",
            "userId": "104817971489841175541"
          }
        }
      },
      "cell_type": "code",
      "source": [
        "print(df.groupby('seller').size())"
      ],
      "execution_count": 243,
      "outputs": [
        {
          "output_type": "stream",
          "text": [
            "seller\n",
            "gewerblich         2\n",
            "privat        297220\n",
            "dtype: int64\n"
          ],
          "name": "stdout"
        }
      ]
    },
    {
      "metadata": {
        "id": "nTzn5tdly_zT",
        "colab_type": "code",
        "colab": {
          "autoexec": {
            "startup": false,
            "wait_interval": 0
          }
        }
      },
      "cell_type": "code",
      "source": [
        "df = df[df.seller != 'gewerblich']\n",
        "del df['seller']"
      ],
      "execution_count": 0,
      "outputs": []
    },
    {
      "metadata": {
        "id": "yGDnfas0y_zk",
        "colab_type": "code",
        "colab": {
          "autoexec": {
            "startup": false,
            "wait_interval": 0
          },
          "base_uri": "https://localhost:8080/",
          "height": 85
        },
        "outputId": "ae8366d9-4105-4f37-a8eb-f6fa6c6c0fad",
        "executionInfo": {
          "status": "ok",
          "timestamp": 1527775418710,
          "user_tz": -330,
          "elapsed": 1284,
          "user": {
            "displayName": "Sarthak Vashisht",
            "photoUrl": "//lh5.googleusercontent.com/-1rN51ngNn7Q/AAAAAAAAAAI/AAAAAAAAAAs/NmFuFNKqIGM/s50-c-k-no/photo.jpg",
            "userId": "104817971489841175541"
          }
        }
      },
      "cell_type": "code",
      "source": [
        "print(df.groupby('offerType').size())\n"
      ],
      "execution_count": 245,
      "outputs": [
        {
          "output_type": "stream",
          "text": [
            "offerType\n",
            "Angebot    297212\n",
            "Gesuch          8\n",
            "dtype: int64\n"
          ],
          "name": "stdout"
        }
      ]
    },
    {
      "metadata": {
        "id": "kzow-MhSy_zp",
        "colab_type": "code",
        "colab": {
          "autoexec": {
            "startup": false,
            "wait_interval": 0
          },
          "base_uri": "https://localhost:8080/",
          "height": 204
        },
        "outputId": "1cf1e606-ed35-4e93-acb8-395570822a32",
        "executionInfo": {
          "status": "ok",
          "timestamp": 1527775419878,
          "user_tz": -330,
          "elapsed": 1015,
          "user": {
            "displayName": "Sarthak Vashisht",
            "photoUrl": "//lh5.googleusercontent.com/-1rN51ngNn7Q/AAAAAAAAAAI/AAAAAAAAAAs/NmFuFNKqIGM/s50-c-k-no/photo.jpg",
            "userId": "104817971489841175541"
          }
        }
      },
      "cell_type": "code",
      "source": [
        "df = df[df.offerType != 'Gesuch']\n",
        "del df[\"offerType\"]\n",
        "del dft[\"offerType\"]\n",
        "del dft['seller']\n",
        "df.head()"
      ],
      "execution_count": 246,
      "outputs": [
        {
          "output_type": "execute_result",
          "data": {
            "text/html": [
              "<div>\n",
              "<style scoped>\n",
              "    .dataframe tbody tr th:only-of-type {\n",
              "        vertical-align: middle;\n",
              "    }\n",
              "\n",
              "    .dataframe tbody tr th {\n",
              "        vertical-align: top;\n",
              "    }\n",
              "\n",
              "    .dataframe thead th {\n",
              "        text-align: right;\n",
              "    }\n",
              "</style>\n",
              "<table border=\"1\" class=\"dataframe\">\n",
              "  <thead>\n",
              "    <tr style=\"text-align: right;\">\n",
              "      <th></th>\n",
              "      <th>abtest</th>\n",
              "      <th>vehicleType</th>\n",
              "      <th>yearOfRegistration</th>\n",
              "      <th>gearbox</th>\n",
              "      <th>powerPS</th>\n",
              "      <th>model</th>\n",
              "      <th>kilometer</th>\n",
              "      <th>monthOfRegistration</th>\n",
              "      <th>fuelType</th>\n",
              "      <th>brand</th>\n",
              "      <th>notRepairedDamage</th>\n",
              "      <th>price</th>\n",
              "    </tr>\n",
              "  </thead>\n",
              "  <tbody>\n",
              "    <tr>\n",
              "      <th>0</th>\n",
              "      <td>control</td>\n",
              "      <td>NaN</td>\n",
              "      <td>2016</td>\n",
              "      <td>manuell</td>\n",
              "      <td>80</td>\n",
              "      <td>punto</td>\n",
              "      <td>150000</td>\n",
              "      <td>0</td>\n",
              "      <td>benzin</td>\n",
              "      <td>fiat</td>\n",
              "      <td>NaN</td>\n",
              "      <td>1050</td>\n",
              "    </tr>\n",
              "    <tr>\n",
              "      <th>1</th>\n",
              "      <td>control</td>\n",
              "      <td>cabrio</td>\n",
              "      <td>2008</td>\n",
              "      <td>manuell</td>\n",
              "      <td>116</td>\n",
              "      <td>cooper</td>\n",
              "      <td>90000</td>\n",
              "      <td>6</td>\n",
              "      <td>benzin</td>\n",
              "      <td>mini</td>\n",
              "      <td>nein</td>\n",
              "      <td>12900</td>\n",
              "    </tr>\n",
              "    <tr>\n",
              "      <th>2</th>\n",
              "      <td>control</td>\n",
              "      <td>kombi</td>\n",
              "      <td>2005</td>\n",
              "      <td>manuell</td>\n",
              "      <td>90</td>\n",
              "      <td>combo</td>\n",
              "      <td>150000</td>\n",
              "      <td>9</td>\n",
              "      <td>benzin</td>\n",
              "      <td>opel</td>\n",
              "      <td>nein</td>\n",
              "      <td>4500</td>\n",
              "    </tr>\n",
              "    <tr>\n",
              "      <th>3</th>\n",
              "      <td>test</td>\n",
              "      <td>kleinwagen</td>\n",
              "      <td>1997</td>\n",
              "      <td>manuell</td>\n",
              "      <td>0</td>\n",
              "      <td>polo</td>\n",
              "      <td>150000</td>\n",
              "      <td>7</td>\n",
              "      <td>benzin</td>\n",
              "      <td>volkswagen</td>\n",
              "      <td>NaN</td>\n",
              "      <td>1000</td>\n",
              "    </tr>\n",
              "    <tr>\n",
              "      <th>4</th>\n",
              "      <td>test</td>\n",
              "      <td>kleinwagen</td>\n",
              "      <td>2002</td>\n",
              "      <td>manuell</td>\n",
              "      <td>75</td>\n",
              "      <td>twingo</td>\n",
              "      <td>150000</td>\n",
              "      <td>0</td>\n",
              "      <td>NaN</td>\n",
              "      <td>renault</td>\n",
              "      <td>NaN</td>\n",
              "      <td>1250</td>\n",
              "    </tr>\n",
              "  </tbody>\n",
              "</table>\n",
              "</div>"
            ],
            "text/plain": [
              "    abtest vehicleType  yearOfRegistration  gearbox  powerPS   model  \\\n",
              "0  control         NaN                2016  manuell       80   punto   \n",
              "1  control      cabrio                2008  manuell      116  cooper   \n",
              "2  control       kombi                2005  manuell       90   combo   \n",
              "3     test  kleinwagen                1997  manuell        0    polo   \n",
              "4     test  kleinwagen                2002  manuell       75  twingo   \n",
              "\n",
              "   kilometer  monthOfRegistration fuelType       brand notRepairedDamage  \\\n",
              "0     150000                    0   benzin        fiat               NaN   \n",
              "1      90000                    6   benzin        mini              nein   \n",
              "2     150000                    9   benzin        opel              nein   \n",
              "3     150000                    7   benzin  volkswagen               NaN   \n",
              "4     150000                    0      NaN     renault               NaN   \n",
              "\n",
              "   price  \n",
              "0   1050  \n",
              "1  12900  \n",
              "2   4500  \n",
              "3   1000  \n",
              "4   1250  "
            ]
          },
          "metadata": {
            "tags": []
          },
          "execution_count": 246
        }
      ]
    },
    {
      "metadata": {
        "id": "-mdarAbty_zz",
        "colab_type": "code",
        "colab": {
          "autoexec": {
            "startup": false,
            "wait_interval": 0
          }
        }
      },
      "cell_type": "code",
      "source": [
        "del df[\"abtest\"]\n",
        "del dft[\"abtest\"]"
      ],
      "execution_count": 0,
      "outputs": []
    },
    {
      "metadata": {
        "id": "fborKyymy_z4",
        "colab_type": "code",
        "colab": {
          "autoexec": {
            "startup": false,
            "wait_interval": 0
          }
        }
      },
      "cell_type": "code",
      "source": [
        "df = df[df.price != 0]"
      ],
      "execution_count": 0,
      "outputs": []
    },
    {
      "metadata": {
        "id": "aVSz80qpy_0G",
        "colab_type": "code",
        "colab": {
          "autoexec": {
            "startup": false,
            "wait_interval": 0
          }
        }
      },
      "cell_type": "code",
      "source": [
        "df = df[(df.powerPS > 0) & (df.powerPS < 1000)]\n"
      ],
      "execution_count": 0,
      "outputs": []
    },
    {
      "metadata": {
        "id": "6WWxslhAy_0K",
        "colab_type": "code",
        "colab": {
          "autoexec": {
            "startup": false,
            "wait_interval": 0
          }
        }
      },
      "cell_type": "code",
      "source": [
        "df = df[(df.yearOfRegistration >= 1886) & (df.yearOfRegistration <= 2018)]\n"
      ],
      "execution_count": 0,
      "outputs": []
    },
    {
      "metadata": {
        "id": "PiGS0skpy_0S",
        "colab_type": "code",
        "colab": {
          "autoexec": {
            "startup": false,
            "wait_interval": 0
          },
          "base_uri": "https://localhost:8080/",
          "height": 176
        },
        "outputId": "fe3a83e2-733b-4686-c5b2-368cebdfe6ae",
        "executionInfo": {
          "status": "ok",
          "timestamp": 1527775425571,
          "user_tz": -330,
          "elapsed": 1003,
          "user": {
            "displayName": "Sarthak Vashisht",
            "photoUrl": "//lh5.googleusercontent.com/-1rN51ngNn7Q/AAAAAAAAAAI/AAAAAAAAAAs/NmFuFNKqIGM/s50-c-k-no/photo.jpg",
            "userId": "104817971489841175541"
          }
        }
      },
      "cell_type": "code",
      "source": [
        "print(df.shape)\n",
        "print(dft.shape)\n",
        "dft.head(3)"
      ],
      "execution_count": 251,
      "outputs": [
        {
          "output_type": "stream",
          "text": [
            "(258630, 11)\n",
            "(74306, 10)\n"
          ],
          "name": "stdout"
        },
        {
          "output_type": "execute_result",
          "data": {
            "text/html": [
              "<div>\n",
              "<style scoped>\n",
              "    .dataframe tbody tr th:only-of-type {\n",
              "        vertical-align: middle;\n",
              "    }\n",
              "\n",
              "    .dataframe tbody tr th {\n",
              "        vertical-align: top;\n",
              "    }\n",
              "\n",
              "    .dataframe thead th {\n",
              "        text-align: right;\n",
              "    }\n",
              "</style>\n",
              "<table border=\"1\" class=\"dataframe\">\n",
              "  <thead>\n",
              "    <tr style=\"text-align: right;\">\n",
              "      <th></th>\n",
              "      <th>vehicleType</th>\n",
              "      <th>yearOfRegistration</th>\n",
              "      <th>gearbox</th>\n",
              "      <th>powerPS</th>\n",
              "      <th>model</th>\n",
              "      <th>kilometer</th>\n",
              "      <th>monthOfRegistration</th>\n",
              "      <th>fuelType</th>\n",
              "      <th>brand</th>\n",
              "      <th>notRepairedDamage</th>\n",
              "    </tr>\n",
              "  </thead>\n",
              "  <tbody>\n",
              "    <tr>\n",
              "      <th>0</th>\n",
              "      <td>bus</td>\n",
              "      <td>1996</td>\n",
              "      <td>manuell</td>\n",
              "      <td>113</td>\n",
              "      <td>sharan</td>\n",
              "      <td>150000</td>\n",
              "      <td>12</td>\n",
              "      <td>diesel</td>\n",
              "      <td>volkswagen</td>\n",
              "      <td>nein</td>\n",
              "    </tr>\n",
              "    <tr>\n",
              "      <th>1</th>\n",
              "      <td>coupe</td>\n",
              "      <td>2007</td>\n",
              "      <td>automatik</td>\n",
              "      <td>306</td>\n",
              "      <td>3er</td>\n",
              "      <td>125000</td>\n",
              "      <td>2</td>\n",
              "      <td>benzin</td>\n",
              "      <td>bmw</td>\n",
              "      <td>nein</td>\n",
              "    </tr>\n",
              "    <tr>\n",
              "      <th>2</th>\n",
              "      <td>limousine</td>\n",
              "      <td>2004</td>\n",
              "      <td>manuell</td>\n",
              "      <td>150</td>\n",
              "      <td>golf</td>\n",
              "      <td>90000</td>\n",
              "      <td>7</td>\n",
              "      <td>benzin</td>\n",
              "      <td>volkswagen</td>\n",
              "      <td>nein</td>\n",
              "    </tr>\n",
              "  </tbody>\n",
              "</table>\n",
              "</div>"
            ],
            "text/plain": [
              "  vehicleType  yearOfRegistration    gearbox  powerPS   model  kilometer  \\\n",
              "0         bus                1996    manuell      113  sharan     150000   \n",
              "1       coupe                2007  automatik      306     3er     125000   \n",
              "2   limousine                2004    manuell      150    golf      90000   \n",
              "\n",
              "   monthOfRegistration fuelType       brand notRepairedDamage  \n",
              "0                   12   diesel  volkswagen              nein  \n",
              "1                    2   benzin         bmw              nein  \n",
              "2                    7   benzin  volkswagen              nein  "
            ]
          },
          "metadata": {
            "tags": []
          },
          "execution_count": 251
        }
      ]
    },
    {
      "metadata": {
        "id": "3ADzBxGJy_0Y",
        "colab_type": "code",
        "colab": {
          "autoexec": {
            "startup": false,
            "wait_interval": 0
          },
          "base_uri": "https://localhost:8080/",
          "height": 221
        },
        "outputId": "d389a571-6381-4f81-8e49-ef9000f641ed",
        "executionInfo": {
          "status": "ok",
          "timestamp": 1527775429455,
          "user_tz": -330,
          "elapsed": 1540,
          "user": {
            "displayName": "Sarthak Vashisht",
            "photoUrl": "//lh5.googleusercontent.com/-1rN51ngNn7Q/AAAAAAAAAAI/AAAAAAAAAAs/NmFuFNKqIGM/s50-c-k-no/photo.jpg",
            "userId": "104817971489841175541"
          }
        }
      },
      "cell_type": "code",
      "source": [
        "df.isnull().sum()"
      ],
      "execution_count": 252,
      "outputs": [
        {
          "output_type": "execute_result",
          "data": {
            "text/plain": [
              "vehicleType            17299\n",
              "yearOfRegistration         0\n",
              "gearbox                 5055\n",
              "powerPS                    0\n",
              "model                  10489\n",
              "kilometer                  0\n",
              "monthOfRegistration        0\n",
              "fuelType               16069\n",
              "brand                      0\n",
              "notRepairedDamage      38199\n",
              "price                      0\n",
              "dtype: int64"
            ]
          },
          "metadata": {
            "tags": []
          },
          "execution_count": 252
        }
      ]
    },
    {
      "metadata": {
        "id": "ex8IPMd2y_0i",
        "colab_type": "code",
        "colab": {
          "autoexec": {
            "startup": false,
            "wait_interval": 0
          },
          "base_uri": "https://localhost:8080/",
          "height": 221
        },
        "outputId": "25adc7e3-e701-458e-f26f-004248ab3fca",
        "executionInfo": {
          "status": "ok",
          "timestamp": 1527775431638,
          "user_tz": -330,
          "elapsed": 1755,
          "user": {
            "displayName": "Sarthak Vashisht",
            "photoUrl": "//lh5.googleusercontent.com/-1rN51ngNn7Q/AAAAAAAAAAI/AAAAAAAAAAs/NmFuFNKqIGM/s50-c-k-no/photo.jpg",
            "userId": "104817971489841175541"
          }
        }
      },
      "cell_type": "code",
      "source": [
        "df[\"vehicleType\"].fillna(\"Other\", inplace=True)\n",
        "df[\"gearbox\"].fillna(\"Unspecified\", inplace=True)\n",
        "df[\"fuelType\"].fillna(\"other\",inplace=True)\n",
        "df[\"notRepairedDamage\"].fillna(\"other\",inplace=True)\n",
        "df[\"model\"].fillna(\"Other\",inplace=True)\n",
        "df.isnull().sum()"
      ],
      "execution_count": 253,
      "outputs": [
        {
          "output_type": "execute_result",
          "data": {
            "text/plain": [
              "vehicleType            0\n",
              "yearOfRegistration     0\n",
              "gearbox                0\n",
              "powerPS                0\n",
              "model                  0\n",
              "kilometer              0\n",
              "monthOfRegistration    0\n",
              "fuelType               0\n",
              "brand                  0\n",
              "notRepairedDamage      0\n",
              "price                  0\n",
              "dtype: int64"
            ]
          },
          "metadata": {
            "tags": []
          },
          "execution_count": 253
        }
      ]
    },
    {
      "metadata": {
        "id": "Ycou02zgy_00",
        "colab_type": "code",
        "colab": {
          "autoexec": {
            "startup": false,
            "wait_interval": 0
          },
          "base_uri": "https://localhost:8080/",
          "height": 731
        },
        "outputId": "79f78160-a1a2-4ba6-df05-7980eb781da9",
        "executionInfo": {
          "status": "ok",
          "timestamp": 1527775432951,
          "user_tz": -330,
          "elapsed": 1149,
          "user": {
            "displayName": "Sarthak Vashisht",
            "photoUrl": "//lh5.googleusercontent.com/-1rN51ngNn7Q/AAAAAAAAAAI/AAAAAAAAAAs/NmFuFNKqIGM/s50-c-k-no/photo.jpg",
            "userId": "104817971489841175541"
          }
        }
      },
      "cell_type": "code",
      "source": [
        "print(\"Vehicle\",df.vehicleType.unique())\n",
        "print(\"GearBox\",df.gearbox.unique())\n",
        "print(\"Model\",df.model.unique())\n",
        "print(\"Fuel\",df.fuelType.unique())\n",
        "print(\"Brand\",df.brand.unique())\n",
        "print(\"Damage\",df.notRepairedDamage.unique())"
      ],
      "execution_count": 254,
      "outputs": [
        {
          "output_type": "stream",
          "text": [
            "Vehicle ['Other' 'cabrio' 'kombi' 'kleinwagen' 'limousine' 'coupe' 'bus' 'suv'\n",
            " 'andere']\n",
            "GearBox ['manuell' 'automatik' 'Unspecified']\n",
            "Model ['punto' 'cooper' 'combo' 'twingo' 'golf' 'passat' 'a6' 'andere'\n",
            " 'rx_reihe' '1er' 'polo' 'transporter' 'slk' 'Other' 'c1' 'bravo' '5er'\n",
            " 'astra' 'a3' 'a4' 'mondeo' '3_reihe' 'clubman' 'r19' 'sprinter' 'fortwo'\n",
            " 'fiesta' 'megane' 'impreza' 'spark' 'c_klasse' 'galaxy' 'kangoo' 'glk'\n",
            " 'a_klasse' 'grand' 'vectra' 'fox' 'almera' 'z_reihe' 'clk' 'a5' 'lupo'\n",
            " 'octavia' '911' 'one' '3er' 'focus' 'scenic' '7er' 'corsa' 'e_klasse'\n",
            " 'clio' 'a8' 'yaris' 'm_reihe' 'touran' 'cordoba' 'micra' 'sandero'\n",
            " 'insignia' '2_reihe' 'vito' 'up' '159' 'lancer' 'santa' '1_reihe' 'caddy'\n",
            " 'meriva' 'pajero' 'arosa' 'mustang' 'q7' 'mx_reihe' 'x_reihe' 'ibiza'\n",
            " 'verso' 'primera' 'ptcruiser' 'defender' 'm_klasse' 'scirocco' 's_klasse'\n",
            " 'c5' 'duster' 'fusion' '6_reihe' 'fabia' 'sharan' 'logan' 'panda' 'ceed'\n",
            " 'modus' 'cr_reihe' 'sportage' 'captiva' 'g_klasse' 'rav' 'c3' 'tt'\n",
            " 'zafira' 'swift' 'citigo' 'laguna' '80' 's_type' 'phaeton' 'avensis'\n",
            " '500' 'b_klasse' 'kuga' 'corolla' 'sorento' 'altea' 'alhambra' 'civic'\n",
            " 'touareg' 'v70' 'c2' 'carisma' 'beetle' 'q3' 'v50' 'ypsilon' 'calibra'\n",
            " 'qashqai' 'c_reihe' 'roadster' 'tiguan' 'cherokee' 'sl' 'jetta' 'accord'\n",
            " 'kalos' 'spider' '4_reihe' 'v40' 'vivaro' 'colt' 'omega' 'berlingo' 'a2'\n",
            " 'ka' 'picanto' 'aygo' 'seicento' 'cuore' '156' 'cayenne' 'niva'\n",
            " 'roomster' 'discovery' 'cx_reihe' '147' 'q5' 'kaefer' 'ducato' 'bora'\n",
            " 'i_reihe' 'matiz' 'lanos' 'signum' 'transit' 'c_max' 'gl' '900' 'agila'\n",
            " 'navara' 'aveo' 'escort' 'leon' 'wrangler' '90' '100' 'freelander' 'eos'\n",
            " 'c4' 'getz' 's_max' 'cl' 'jimny' 'terios' '300c' 'a1' 'tigra' '6er'\n",
            " 'stilo' 'forester' 'galant' 'yeti' 'cc' 'carnival' 'note' '601' '850'\n",
            " 'kalina' 'xc_reihe' 'toledo' 'crossfire' 'v60' 'espace' 'antara' 'auris'\n",
            " 's60' 'exeo' 'jazz' '5_reihe' 'serie_3' 'delta' 'superb' 'doblo'\n",
            " 'voyager' 'v_klasse' 'range_rover' 'justy' 'outlander' 'croma' 'forfour'\n",
            " 'x_trail' 'kadett' 'juke' 'viano' 'x_type' 'boxster' 'sirion' 'legacy'\n",
            " 'rio' 'tucson' 'move' 'nubira' 'range_rover_sport' 'mii' 'amarok' 'lybra'\n",
            " 'range_rover_evoque' 'elefantino' '145' 'musa' '9000' 'charade' '200'\n",
            " 'rangerover' 'materia' 'b_max' 'kappa' 'serie_2' 'i3' 'samara' 'lodgy'\n",
            " 'discovery_sport']\n",
            "Fuel ['benzin' 'other' 'diesel' 'lpg' 'hybrid' 'cng' 'andere' 'elektro']\n",
            "Brand ['fiat' 'mini' 'opel' 'renault' 'volkswagen' 'audi' 'mazda' 'bmw'\n",
            " 'mercedes_benz' 'sonstige_autos' 'citroen' 'peugeot' 'ford' 'smart'\n",
            " 'subaru' 'chevrolet' 'toyota' 'kia' 'suzuki' 'nissan' 'skoda' 'porsche'\n",
            " 'seat' 'dacia' 'alfa_romeo' 'mitsubishi' 'hyundai' 'honda' 'chrysler'\n",
            " 'land_rover' 'saab' 'volvo' 'jaguar' 'lancia' 'jeep' 'daewoo' 'daihatsu'\n",
            " 'lada' 'rover' 'trabant']\n",
            "Damage ['other' 'nein' 'ja']\n"
          ],
          "name": "stdout"
        }
      ]
    },
    {
      "metadata": {
        "id": "JOhq8XBNy_08",
        "colab_type": "code",
        "colab": {
          "autoexec": {
            "startup": false,
            "wait_interval": 0
          },
          "base_uri": "https://localhost:8080/",
          "height": 204
        },
        "outputId": "f87e511a-a7a7-4a0f-8428-322b471c1401",
        "executionInfo": {
          "status": "ok",
          "timestamp": 1527775434265,
          "user_tz": -330,
          "elapsed": 1109,
          "user": {
            "displayName": "Sarthak Vashisht",
            "photoUrl": "//lh5.googleusercontent.com/-1rN51ngNn7Q/AAAAAAAAAAI/AAAAAAAAAAs/NmFuFNKqIGM/s50-c-k-no/photo.jpg",
            "userId": "104817971489841175541"
          }
        }
      },
      "cell_type": "code",
      "source": [
        "dft[\"vehicleType\"].fillna(\"Other\", inplace=True)\n",
        "dft[\"gearbox\"].fillna(\"Unspecified\", inplace=True)\n",
        "dft[\"fuelType\"].fillna(\"other\",inplace=True)\n",
        "dft[\"notRepairedDamage\"].fillna(\"other\",inplace=True)\n",
        "dft[\"model\"].fillna(\"Other\",inplace=True)\n",
        "dft[\"brand\"].fillna(\"Other\",inplace=True)\n",
        "dft = dft.dropna()\n",
        "dft.isna().sum()"
      ],
      "execution_count": 255,
      "outputs": [
        {
          "output_type": "execute_result",
          "data": {
            "text/plain": [
              "vehicleType            0\n",
              "yearOfRegistration     0\n",
              "gearbox                0\n",
              "powerPS                0\n",
              "model                  0\n",
              "kilometer              0\n",
              "monthOfRegistration    0\n",
              "fuelType               0\n",
              "brand                  0\n",
              "notRepairedDamage      0\n",
              "dtype: int64"
            ]
          },
          "metadata": {
            "tags": []
          },
          "execution_count": 255
        }
      ]
    },
    {
      "metadata": {
        "id": "-syZq6JTy_1O",
        "colab_type": "code",
        "colab": {
          "autoexec": {
            "startup": false,
            "wait_interval": 0
          }
        }
      },
      "cell_type": "code",
      "source": [
        "df['ageOfCar'] = (2018-df['yearOfRegistration'])*12 + (5- df['monthOfRegistration'])"
      ],
      "execution_count": 0,
      "outputs": []
    },
    {
      "metadata": {
        "id": "4cy51eAKy_1X",
        "colab_type": "code",
        "colab": {
          "autoexec": {
            "startup": false,
            "wait_interval": 0
          }
        }
      },
      "cell_type": "code",
      "source": [
        "dft['ageOfCar'] = (2018-dft['yearOfRegistration'])*12 + (5- dft['monthOfRegistration'])"
      ],
      "execution_count": 0,
      "outputs": []
    },
    {
      "metadata": {
        "id": "TAnc_JmOy_1b",
        "colab_type": "code",
        "colab": {
          "autoexec": {
            "startup": false,
            "wait_interval": 0
          }
        }
      },
      "cell_type": "code",
      "source": [
        "del df['yearOfRegistration']\n",
        "del dft['yearOfRegistration']"
      ],
      "execution_count": 0,
      "outputs": []
    },
    {
      "metadata": {
        "id": "8kFISfr-y_1f",
        "colab_type": "code",
        "colab": {
          "autoexec": {
            "startup": false,
            "wait_interval": 0
          }
        }
      },
      "cell_type": "code",
      "source": [
        "del df['monthOfRegistration']\n",
        "del dft['monthOfRegistration']"
      ],
      "execution_count": 0,
      "outputs": []
    },
    {
      "metadata": {
        "id": "4DX_iIJSy_1q",
        "colab_type": "code",
        "colab": {
          "autoexec": {
            "startup": false,
            "wait_interval": 0
          },
          "base_uri": "https://localhost:8080/",
          "height": 204
        },
        "outputId": "2fc7978a-f448-4518-c7cd-34309dcb63ba",
        "executionInfo": {
          "status": "ok",
          "timestamp": 1527775439720,
          "user_tz": -330,
          "elapsed": 955,
          "user": {
            "displayName": "Sarthak Vashisht",
            "photoUrl": "//lh5.googleusercontent.com/-1rN51ngNn7Q/AAAAAAAAAAI/AAAAAAAAAAs/NmFuFNKqIGM/s50-c-k-no/photo.jpg",
            "userId": "104817971489841175541"
          }
        }
      },
      "cell_type": "code",
      "source": [
        "df.head()\n"
      ],
      "execution_count": 260,
      "outputs": [
        {
          "output_type": "execute_result",
          "data": {
            "text/html": [
              "<div>\n",
              "<style scoped>\n",
              "    .dataframe tbody tr th:only-of-type {\n",
              "        vertical-align: middle;\n",
              "    }\n",
              "\n",
              "    .dataframe tbody tr th {\n",
              "        vertical-align: top;\n",
              "    }\n",
              "\n",
              "    .dataframe thead th {\n",
              "        text-align: right;\n",
              "    }\n",
              "</style>\n",
              "<table border=\"1\" class=\"dataframe\">\n",
              "  <thead>\n",
              "    <tr style=\"text-align: right;\">\n",
              "      <th></th>\n",
              "      <th>vehicleType</th>\n",
              "      <th>gearbox</th>\n",
              "      <th>powerPS</th>\n",
              "      <th>model</th>\n",
              "      <th>kilometer</th>\n",
              "      <th>fuelType</th>\n",
              "      <th>brand</th>\n",
              "      <th>notRepairedDamage</th>\n",
              "      <th>price</th>\n",
              "      <th>ageOfCar</th>\n",
              "    </tr>\n",
              "  </thead>\n",
              "  <tbody>\n",
              "    <tr>\n",
              "      <th>0</th>\n",
              "      <td>Other</td>\n",
              "      <td>manuell</td>\n",
              "      <td>80</td>\n",
              "      <td>punto</td>\n",
              "      <td>150000</td>\n",
              "      <td>benzin</td>\n",
              "      <td>fiat</td>\n",
              "      <td>other</td>\n",
              "      <td>1050</td>\n",
              "      <td>29</td>\n",
              "    </tr>\n",
              "    <tr>\n",
              "      <th>1</th>\n",
              "      <td>cabrio</td>\n",
              "      <td>manuell</td>\n",
              "      <td>116</td>\n",
              "      <td>cooper</td>\n",
              "      <td>90000</td>\n",
              "      <td>benzin</td>\n",
              "      <td>mini</td>\n",
              "      <td>nein</td>\n",
              "      <td>12900</td>\n",
              "      <td>119</td>\n",
              "    </tr>\n",
              "    <tr>\n",
              "      <th>2</th>\n",
              "      <td>kombi</td>\n",
              "      <td>manuell</td>\n",
              "      <td>90</td>\n",
              "      <td>combo</td>\n",
              "      <td>150000</td>\n",
              "      <td>benzin</td>\n",
              "      <td>opel</td>\n",
              "      <td>nein</td>\n",
              "      <td>4500</td>\n",
              "      <td>152</td>\n",
              "    </tr>\n",
              "    <tr>\n",
              "      <th>4</th>\n",
              "      <td>kleinwagen</td>\n",
              "      <td>manuell</td>\n",
              "      <td>75</td>\n",
              "      <td>twingo</td>\n",
              "      <td>150000</td>\n",
              "      <td>other</td>\n",
              "      <td>renault</td>\n",
              "      <td>other</td>\n",
              "      <td>1250</td>\n",
              "      <td>197</td>\n",
              "    </tr>\n",
              "    <tr>\n",
              "      <th>5</th>\n",
              "      <td>kombi</td>\n",
              "      <td>manuell</td>\n",
              "      <td>116</td>\n",
              "      <td>golf</td>\n",
              "      <td>150000</td>\n",
              "      <td>benzin</td>\n",
              "      <td>volkswagen</td>\n",
              "      <td>nein</td>\n",
              "      <td>1200</td>\n",
              "      <td>230</td>\n",
              "    </tr>\n",
              "  </tbody>\n",
              "</table>\n",
              "</div>"
            ],
            "text/plain": [
              "  vehicleType  gearbox  powerPS   model  kilometer fuelType       brand  \\\n",
              "0       Other  manuell       80   punto     150000   benzin        fiat   \n",
              "1      cabrio  manuell      116  cooper      90000   benzin        mini   \n",
              "2       kombi  manuell       90   combo     150000   benzin        opel   \n",
              "4  kleinwagen  manuell       75  twingo     150000    other     renault   \n",
              "5       kombi  manuell      116    golf     150000   benzin  volkswagen   \n",
              "\n",
              "  notRepairedDamage  price  ageOfCar  \n",
              "0             other   1050        29  \n",
              "1              nein  12900       119  \n",
              "2              nein   4500       152  \n",
              "4             other   1250       197  \n",
              "5              nein   1200       230  "
            ]
          },
          "metadata": {
            "tags": []
          },
          "execution_count": 260
        }
      ]
    },
    {
      "metadata": {
        "id": "019D8liTfBPx",
        "colab_type": "code",
        "colab": {
          "autoexec": {
            "startup": false,
            "wait_interval": 0
          },
          "base_uri": "https://localhost:8080/",
          "height": 204
        },
        "outputId": "ec8daebe-c6d5-488b-d6a5-d7352462449f",
        "executionInfo": {
          "status": "ok",
          "timestamp": 1527775440793,
          "user_tz": -330,
          "elapsed": 887,
          "user": {
            "displayName": "Sarthak Vashisht",
            "photoUrl": "//lh5.googleusercontent.com/-1rN51ngNn7Q/AAAAAAAAAAI/AAAAAAAAAAs/NmFuFNKqIGM/s50-c-k-no/photo.jpg",
            "userId": "104817971489841175541"
          }
        }
      },
      "cell_type": "code",
      "source": [
        "dft.head()"
      ],
      "execution_count": 261,
      "outputs": [
        {
          "output_type": "execute_result",
          "data": {
            "text/html": [
              "<div>\n",
              "<style scoped>\n",
              "    .dataframe tbody tr th:only-of-type {\n",
              "        vertical-align: middle;\n",
              "    }\n",
              "\n",
              "    .dataframe tbody tr th {\n",
              "        vertical-align: top;\n",
              "    }\n",
              "\n",
              "    .dataframe thead th {\n",
              "        text-align: right;\n",
              "    }\n",
              "</style>\n",
              "<table border=\"1\" class=\"dataframe\">\n",
              "  <thead>\n",
              "    <tr style=\"text-align: right;\">\n",
              "      <th></th>\n",
              "      <th>vehicleType</th>\n",
              "      <th>gearbox</th>\n",
              "      <th>powerPS</th>\n",
              "      <th>model</th>\n",
              "      <th>kilometer</th>\n",
              "      <th>fuelType</th>\n",
              "      <th>brand</th>\n",
              "      <th>notRepairedDamage</th>\n",
              "      <th>ageOfCar</th>\n",
              "    </tr>\n",
              "  </thead>\n",
              "  <tbody>\n",
              "    <tr>\n",
              "      <th>0</th>\n",
              "      <td>bus</td>\n",
              "      <td>manuell</td>\n",
              "      <td>113</td>\n",
              "      <td>sharan</td>\n",
              "      <td>150000</td>\n",
              "      <td>diesel</td>\n",
              "      <td>volkswagen</td>\n",
              "      <td>nein</td>\n",
              "      <td>257</td>\n",
              "    </tr>\n",
              "    <tr>\n",
              "      <th>1</th>\n",
              "      <td>coupe</td>\n",
              "      <td>automatik</td>\n",
              "      <td>306</td>\n",
              "      <td>3er</td>\n",
              "      <td>125000</td>\n",
              "      <td>benzin</td>\n",
              "      <td>bmw</td>\n",
              "      <td>nein</td>\n",
              "      <td>135</td>\n",
              "    </tr>\n",
              "    <tr>\n",
              "      <th>2</th>\n",
              "      <td>limousine</td>\n",
              "      <td>manuell</td>\n",
              "      <td>150</td>\n",
              "      <td>golf</td>\n",
              "      <td>90000</td>\n",
              "      <td>benzin</td>\n",
              "      <td>volkswagen</td>\n",
              "      <td>nein</td>\n",
              "      <td>166</td>\n",
              "    </tr>\n",
              "    <tr>\n",
              "      <th>3</th>\n",
              "      <td>kleinwagen</td>\n",
              "      <td>manuell</td>\n",
              "      <td>0</td>\n",
              "      <td>clio</td>\n",
              "      <td>150000</td>\n",
              "      <td>benzin</td>\n",
              "      <td>renault</td>\n",
              "      <td>other</td>\n",
              "      <td>235</td>\n",
              "    </tr>\n",
              "    <tr>\n",
              "      <th>4</th>\n",
              "      <td>suv</td>\n",
              "      <td>manuell</td>\n",
              "      <td>205</td>\n",
              "      <td>cooper</td>\n",
              "      <td>30000</td>\n",
              "      <td>benzin</td>\n",
              "      <td>mini</td>\n",
              "      <td>nein</td>\n",
              "      <td>90</td>\n",
              "    </tr>\n",
              "  </tbody>\n",
              "</table>\n",
              "</div>"
            ],
            "text/plain": [
              "  vehicleType    gearbox  powerPS   model  kilometer fuelType       brand  \\\n",
              "0         bus    manuell      113  sharan     150000   diesel  volkswagen   \n",
              "1       coupe  automatik      306     3er     125000   benzin         bmw   \n",
              "2   limousine    manuell      150    golf      90000   benzin  volkswagen   \n",
              "3  kleinwagen    manuell        0    clio     150000   benzin     renault   \n",
              "4         suv    manuell      205  cooper      30000   benzin        mini   \n",
              "\n",
              "  notRepairedDamage  ageOfCar  \n",
              "0              nein       257  \n",
              "1              nein       135  \n",
              "2              nein       166  \n",
              "3             other       235  \n",
              "4              nein        90  "
            ]
          },
          "metadata": {
            "tags": []
          },
          "execution_count": 261
        }
      ]
    },
    {
      "metadata": {
        "id": "keCn58oAy_1v",
        "colab_type": "code",
        "colab": {
          "autoexec": {
            "startup": false,
            "wait_interval": 0
          },
          "base_uri": "https://localhost:8080/",
          "height": 1122
        },
        "outputId": "cc78492a-6245-46ed-da84-fbbaf7b01c1c",
        "executionInfo": {
          "status": "ok",
          "timestamp": 1527775441835,
          "user_tz": -330,
          "elapsed": 857,
          "user": {
            "displayName": "Sarthak Vashisht",
            "photoUrl": "//lh5.googleusercontent.com/-1rN51ngNn7Q/AAAAAAAAAAI/AAAAAAAAAAs/NmFuFNKqIGM/s50-c-k-no/photo.jpg",
            "userId": "104817971489841175541"
          }
        }
      },
      "cell_type": "code",
      "source": [
        "print(df.groupby(['vehicleType','brand','model']).sum())"
      ],
      "execution_count": 262,
      "outputs": [
        {
          "output_type": "stream",
          "text": [
            "                                    powerPS  kilometer     price  ageOfCar\n",
            "vehicleType brand      model                                              \n",
            "Other       alfa_romeo 145              400     600000      1299       446\n",
            "                       147             5712    6765000     91121      2423\n",
            "                       156             3236    3180000     19853      1877\n",
            "                       159             1346    1100000     56449       363\n",
            "                       Other           2519    2140000     54953      1608\n",
            "                       andere          1194     950000     18249       897\n",
            "                       spider           502     450000     17749       301\n",
            "            audi       100             1664    1690000     27698      2136\n",
            "                       80              8166   10890000     78738      9648\n",
            "                       90               873    1025000     16697       400\n",
            "                       Other          30858   26360000    853101     13070\n",
            "                       a1              1569     820000    203450       196\n",
            "                       a2              1181    2250000     55718       248\n",
            "                       a3             59811   64390000   1829391     23407\n",
            "                       a4             33392   32535000    910145     10088\n",
            "                       a5              2836    1630000    269187       465\n",
            "                       a6             22804   17620000    662532      5513\n",
            "                       a8              5611    2830000    117551      1385\n",
            "                       andere          2909    1070000     91915       485\n",
            "                       q3               334      40000     30755        74\n",
            "                       q5               539     135000    101800        85\n",
            "                       q7              1449     850000    105499       178\n",
            "                       tt              8482    5910000    351442      2342\n",
            "            bmw        1er            15100   13260000    993455      3374\n",
            "                       3er            90296   91540000   1950174     43303\n",
            "                       5er            31465   23875000    937910     10944\n",
            "                       6er             1457     750000     58900       781\n",
            "                       7er             9010    4870000    218041      2704\n",
            "                       Other          48304   41480000  11388801     20201\n",
            "                       andere           962    1000000     28750      2131\n",
            "...                                     ...        ...       ...       ...\n",
            "suv         subaru     Other            395     330000      2699       836\n",
            "                       andere           450     340000     23990       454\n",
            "                       forester        3450    3020000    152501      4494\n",
            "                       impreza          220      90000      4999       185\n",
            "                       justy            454     630000      8729       933\n",
            "                       legacy           315     275000      5333       390\n",
            "            suzuki     Other           1137    1410000     39940      2539\n",
            "                       andere         20499   27525000   1755274     61398\n",
            "                       grand          21166   18475000   1352767     22701\n",
            "                       jimny          11212   11965000    917799     18903\n",
            "            toyota     Other            784     635000     67389      1435\n",
            "                       andere         16395   11600000   1656104     20121\n",
            "                       rav            37391   32160000   2034285     41965\n",
            "            trabant    601               26      40000     14500        37\n",
            "            volkswagen Other           2439    1895000    149540      2208\n",
            "                       amarok          4577    1650000    675900      1898\n",
            "                       andere          1904    2685000    220848     12721\n",
            "                       caddy            945    1570000     50078      4056\n",
            "                       golf            2084    2930000    118543      5093\n",
            "                       kaefer            72     110000     35500      1089\n",
            "                       passat           241     300000      8550       368\n",
            "                       polo             131     300000      4840       409\n",
            "                       sharan           250     300000      9400       393\n",
            "                       tiguan        102751   58035000  12254665     57935\n",
            "                       touareg       125593   69050000   8654805     67926\n",
            "                       touran           485     600000     25649       573\n",
            "                       transporter     1089    1580000    127280      3516\n",
            "                       up                98     150000      8500       320\n",
            "            volvo      andere           343     240000     22850      1539\n",
            "                       xc_reihe       40431   26765000   3221642     25769\n",
            "\n",
            "[1862 rows x 4 columns]\n"
          ],
          "name": "stdout"
        }
      ]
    },
    {
      "metadata": {
        "id": "zuBF11Ffy_17",
        "colab_type": "code",
        "colab": {
          "autoexec": {
            "startup": false,
            "wait_interval": 0
          }
        }
      },
      "cell_type": "code",
      "source": [
        "# onHot = ['vehicleType', 'gearbox','model', 'kilometer', 'fuelType',\n",
        "#        'brand', 'notRepairedDamage']\n",
        "# for c in onHot:\n",
        "#     for var in set(df[c]):\n",
        "#         for i in range(len(df[c])):\n",
        "#             if df[c][i] == var:\n",
        "#                 df[var][i] = 1\n",
        "             "
      ],
      "execution_count": 0,
      "outputs": []
    },
    {
      "metadata": {
        "id": "dvrYYsDFy_2A",
        "colab_type": "code",
        "colab": {
          "autoexec": {
            "startup": false,
            "wait_interval": 0
          }
        }
      },
      "cell_type": "code",
      "source": [
        "df['kilometer'] = df['kilometer']/10000"
      ],
      "execution_count": 0,
      "outputs": []
    },
    {
      "metadata": {
        "id": "aC4abG8QQb7o",
        "colab_type": "code",
        "colab": {
          "autoexec": {
            "startup": false,
            "wait_interval": 0
          }
        }
      },
      "cell_type": "code",
      "source": [
        "dft['kilometer'] = dft['kilometer']/10000"
      ],
      "execution_count": 0,
      "outputs": []
    },
    {
      "metadata": {
        "id": "wlWwtlMJy_2Q",
        "colab_type": "code",
        "colab": {
          "autoexec": {
            "startup": false,
            "wait_interval": 0
          }
        }
      },
      "cell_type": "code",
      "source": [
        "# for x in df.vehicleType.unique():\n",
        "#     df[x]=(df.vehicleType==x).astype(int)\n",
        "# for x in df.gearbox.unique():\n",
        "#     df[x]=(df.gearbox==x).astype(int)\n",
        "# for x in df.model.unique():\n",
        "#     df[x]=(df.model==x).astype(int)\n",
        "# for x in df.fuelType.unique():\n",
        "#     df[x]=(df.fuelType==x).astype(int)\n",
        "# for x in df.brand.unique():\n",
        "#     df[x]=(df.brand==x).astype(int)\n",
        "# for x in df.notRepairedDamage.unique():\n",
        "#     df[x]=(df.notRepairedDamage==x).astype(int)\n",
        "\n",
        "from sklearn.preprocessing import LabelEncoder\n",
        "\n",
        "lb_make = LabelEncoder()\n",
        "df[\"model\"] = lb_make.fit_transform(df['model'])\n",
        "df[\"gearbox\"] = lb_make.fit_transform(df['gearbox'])\n",
        "df[\"fuelType\"] = lb_make.fit_transform(df['fuelType'])\n",
        "df[\"notRepairedDamage\"] = lb_make.fit_transform(df['notRepairedDamage'])\n",
        "df[\"vehicleType\"] = lb_make.fit_transform(df['vehicleType'])\n",
        "df[\"brand\"] = lb_make.fit_transform(df['brand'])"
      ],
      "execution_count": 0,
      "outputs": []
    },
    {
      "metadata": {
        "id": "0PsLhSLNQhQT",
        "colab_type": "code",
        "colab": {
          "autoexec": {
            "startup": false,
            "wait_interval": 0
          }
        }
      },
      "cell_type": "code",
      "source": [
        "lb_make = LabelEncoder()\n",
        "dft[\"model\"] = lb_make.fit_transform(dft['model'])\n",
        "dft[\"gearbox\"] = lb_make.fit_transform(dft['gearbox'])\n",
        "dft[\"fuelType\"] = lb_make.fit_transform(dft['fuelType'])\n",
        "dft[\"notRepairedDamage\"] = lb_make.fit_transform(dft['notRepairedDamage'])\n",
        "dft[\"vehicleType\"] = lb_make.fit_transform(dft['vehicleType'])\n",
        "dft[\"brand\"] = lb_make.fit_transform(dft['brand'])"
      ],
      "execution_count": 0,
      "outputs": []
    },
    {
      "metadata": {
        "id": "np5k90RMy_2b",
        "colab_type": "code",
        "colab": {
          "autoexec": {
            "startup": false,
            "wait_interval": 0
          }
        }
      },
      "cell_type": "code",
      "source": [
        "#del df['vehicleType']\n",
        "# del df['gearbox']\n",
        "#del df['model']\n",
        "# del df['fuelType']\n",
        "#del df['brand']\n",
        "#del df['notRepairedDamage']"
      ],
      "execution_count": 0,
      "outputs": []
    },
    {
      "metadata": {
        "id": "L8LDOe1sy_2f",
        "colab_type": "code",
        "colab": {
          "autoexec": {
            "startup": false,
            "wait_interval": 0
          }
        }
      },
      "cell_type": "code",
      "source": [
        "df['Price'] = df['price']\n",
        "del df['price']"
      ],
      "execution_count": 0,
      "outputs": []
    },
    {
      "metadata": {
        "id": "IR_k1jUvy_2u",
        "colab_type": "code",
        "colab": {
          "autoexec": {
            "startup": false,
            "wait_interval": 0
          },
          "base_uri": "https://localhost:8080/",
          "height": 34
        },
        "outputId": "5017525e-b15c-4e06-e68e-4aeb0dc27bc0",
        "executionInfo": {
          "status": "ok",
          "timestamp": 1527775452188,
          "user_tz": -330,
          "elapsed": 1011,
          "user": {
            "displayName": "Sarthak Vashisht",
            "photoUrl": "//lh5.googleusercontent.com/-1rN51ngNn7Q/AAAAAAAAAAI/AAAAAAAAAAs/NmFuFNKqIGM/s50-c-k-no/photo.jpg",
            "userId": "104817971489841175541"
          }
        }
      },
      "cell_type": "code",
      "source": [
        "df.shape"
      ],
      "execution_count": 269,
      "outputs": [
        {
          "output_type": "execute_result",
          "data": {
            "text/plain": [
              "(258630, 10)"
            ]
          },
          "metadata": {
            "tags": []
          },
          "execution_count": 269
        }
      ]
    },
    {
      "metadata": {
        "id": "PLh1WDT26WnS",
        "colab_type": "code",
        "colab": {
          "autoexec": {
            "startup": false,
            "wait_interval": 0
          }
        }
      },
      "cell_type": "code",
      "source": [
        "df = df[(df.Price > 0) & (df.Price < 1000000)]"
      ],
      "execution_count": 0,
      "outputs": []
    },
    {
      "metadata": {
        "id": "-7pDThDSy_28",
        "colab_type": "code",
        "colab": {
          "autoexec": {
            "startup": false,
            "wait_interval": 0
          },
          "base_uri": "https://localhost:8080/",
          "height": 51
        },
        "outputId": "669a65f0-6b64-453c-ebaf-f3228d8ea985",
        "executionInfo": {
          "status": "ok",
          "timestamp": 1527775454340,
          "user_tz": -330,
          "elapsed": 1010,
          "user": {
            "displayName": "Sarthak Vashisht",
            "photoUrl": "//lh5.googleusercontent.com/-1rN51ngNn7Q/AAAAAAAAAAI/AAAAAAAAAAs/NmFuFNKqIGM/s50-c-k-no/photo.jpg",
            "userId": "104817971489841175541"
          }
        }
      },
      "cell_type": "code",
      "source": [
        "print(df.shape)\n",
        "dft.shape"
      ],
      "execution_count": 271,
      "outputs": [
        {
          "output_type": "stream",
          "text": [
            "(258597, 10)\n"
          ],
          "name": "stdout"
        },
        {
          "output_type": "execute_result",
          "data": {
            "text/plain": [
              "(74306, 9)"
            ]
          },
          "metadata": {
            "tags": []
          },
          "execution_count": 271
        }
      ]
    },
    {
      "metadata": {
        "id": "f4L3zMR9y_3B",
        "colab_type": "code",
        "colab": {
          "autoexec": {
            "startup": false,
            "wait_interval": 0
          }
        }
      },
      "cell_type": "code",
      "source": [
        "df.to_csv(\"car_train_cleaned.csv\",sep = ',')\n",
        "dft.to_csv(\"car_test_cleaned.csv\",sep = ',')"
      ],
      "execution_count": 0,
      "outputs": []
    },
    {
      "metadata": {
        "id": "20cDmZGey_3L",
        "colab_type": "code",
        "colab": {
          "autoexec": {
            "startup": false,
            "wait_interval": 0
          }
        }
      },
      "cell_type": "code",
      "source": [
        "data = df.values"
      ],
      "execution_count": 0,
      "outputs": []
    },
    {
      "metadata": {
        "id": "Xb7RY5OKy_3Q",
        "colab_type": "code",
        "colab": {
          "autoexec": {
            "startup": false,
            "wait_interval": 0
          },
          "base_uri": "https://localhost:8080/",
          "height": 34
        },
        "outputId": "40c5906e-2396-4b90-f0d5-553287e885f5",
        "executionInfo": {
          "status": "ok",
          "timestamp": 1527775461917,
          "user_tz": -330,
          "elapsed": 971,
          "user": {
            "displayName": "Sarthak Vashisht",
            "photoUrl": "//lh5.googleusercontent.com/-1rN51ngNn7Q/AAAAAAAAAAI/AAAAAAAAAAs/NmFuFNKqIGM/s50-c-k-no/photo.jpg",
            "userId": "104817971489841175541"
          }
        }
      },
      "cell_type": "code",
      "source": [
        "X = data[:,:-1]\n",
        "Y = data[:,-1]\n",
        "X.shape, Y.shape"
      ],
      "execution_count": 274,
      "outputs": [
        {
          "output_type": "execute_result",
          "data": {
            "text/plain": [
              "((258597, 9), (258597,))"
            ]
          },
          "metadata": {
            "tags": []
          },
          "execution_count": 274
        }
      ]
    },
    {
      "metadata": {
        "id": "Asa4_pkPy_3a",
        "colab_type": "code",
        "colab": {
          "autoexec": {
            "startup": false,
            "wait_interval": 0
          },
          "base_uri": "https://localhost:8080/",
          "height": 136
        },
        "cellView": "both",
        "outputId": "0a6bf662-373b-4cdc-c632-da6cfeb59ce0",
        "executionInfo": {
          "status": "ok",
          "timestamp": 1527775462934,
          "user_tz": -330,
          "elapsed": 890,
          "user": {
            "displayName": "Sarthak Vashisht",
            "photoUrl": "//lh5.googleusercontent.com/-1rN51ngNn7Q/AAAAAAAAAAI/AAAAAAAAAAs/NmFuFNKqIGM/s50-c-k-no/photo.jpg",
            "userId": "104817971489841175541"
          }
        }
      },
      "cell_type": "code",
      "source": [
        "\n",
        "from sklearn.model_selection import train_test_split\n",
        "Xtrain, Xtest, Ytrain, Ytest = train_test_split(X,Y, random_state = 1, test_size = 0.4)\n",
        "Xtrain"
      ],
      "execution_count": 275,
      "outputs": [
        {
          "output_type": "execute_result",
          "data": {
            "text/plain": [
              "array([[  5.,   2.,  90., ...,  11.,   1., 325.],\n",
              "       [  7.,   1., 177., ...,   2.,   1., 143.],\n",
              "       [  2.,   2., 150., ...,  25.,   1.,  86.],\n",
              "       ...,\n",
              "       [  5.,   2., 192., ...,  24.,   1., 118.],\n",
              "       [  7.,   2.,  90., ...,   1.,   2., 286.],\n",
              "       [  7.,   1.,  55., ...,  22.,   1., 244.]])"
            ]
          },
          "metadata": {
            "tags": []
          },
          "execution_count": 275
        }
      ]
    },
    {
      "metadata": {
        "id": "pDnpFEYry_3h",
        "colab_type": "text"
      },
      "cell_type": "markdown",
      "source": [
        "Linear Regression"
      ]
    },
    {
      "metadata": {
        "id": "iu8QMLTmy_3j",
        "colab_type": "code",
        "colab": {
          "autoexec": {
            "startup": false,
            "wait_interval": 0
          }
        }
      },
      "cell_type": "code",
      "source": [
        "from sklearn.linear_model import LinearRegression\n",
        "reg1 = LinearRegression()"
      ],
      "execution_count": 0,
      "outputs": []
    },
    {
      "metadata": {
        "id": "zu0r54P1y_3t",
        "colab_type": "code",
        "colab": {
          "autoexec": {
            "startup": false,
            "wait_interval": 0
          },
          "base_uri": "https://localhost:8080/",
          "height": 34
        },
        "outputId": "75e0949e-1867-4f8f-d9c5-7592c4ecf1cc",
        "executionInfo": {
          "status": "ok",
          "timestamp": 1527775465307,
          "user_tz": -330,
          "elapsed": 928,
          "user": {
            "displayName": "Sarthak Vashisht",
            "photoUrl": "//lh5.googleusercontent.com/-1rN51ngNn7Q/AAAAAAAAAAI/AAAAAAAAAAs/NmFuFNKqIGM/s50-c-k-no/photo.jpg",
            "userId": "104817971489841175541"
          }
        }
      },
      "cell_type": "code",
      "source": [
        "reg1.fit(Xtrain, Ytrain)"
      ],
      "execution_count": 277,
      "outputs": [
        {
          "output_type": "execute_result",
          "data": {
            "text/plain": [
              "LinearRegression(copy_X=True, fit_intercept=True, n_jobs=1, normalize=False)"
            ]
          },
          "metadata": {
            "tags": []
          },
          "execution_count": 277
        }
      ]
    },
    {
      "metadata": {
        "id": "tqJvJFNIy_4D",
        "colab_type": "code",
        "colab": {
          "autoexec": {
            "startup": false,
            "wait_interval": 0
          },
          "base_uri": "https://localhost:8080/",
          "height": 34
        },
        "outputId": "560ef597-eaa9-4549-be45-392cad7cfea9",
        "executionInfo": {
          "status": "ok",
          "timestamp": 1527775466347,
          "user_tz": -330,
          "elapsed": 898,
          "user": {
            "displayName": "Sarthak Vashisht",
            "photoUrl": "//lh5.googleusercontent.com/-1rN51ngNn7Q/AAAAAAAAAAI/AAAAAAAAAAs/NmFuFNKqIGM/s50-c-k-no/photo.jpg",
            "userId": "104817971489841175541"
          }
        }
      },
      "cell_type": "code",
      "source": [
        "reg1.score(Xtest,Ytest)"
      ],
      "execution_count": 278,
      "outputs": [
        {
          "output_type": "execute_result",
          "data": {
            "text/plain": [
              "0.3384468735891961"
            ]
          },
          "metadata": {
            "tags": []
          },
          "execution_count": 278
        }
      ]
    },
    {
      "metadata": {
        "id": "85m81VYOy_4P",
        "colab_type": "text"
      },
      "cell_type": "markdown",
      "source": [
        " DecisionTreeRegressor"
      ]
    },
    {
      "metadata": {
        "id": "sum7eBPXy_4Q",
        "colab_type": "code",
        "colab": {
          "autoexec": {
            "startup": false,
            "wait_interval": 0
          }
        }
      },
      "cell_type": "code",
      "source": [
        "from sklearn.tree import DecisionTreeRegressor\n",
        "reg2 = DecisionTreeRegressor(max_depth=2, )"
      ],
      "execution_count": 0,
      "outputs": []
    },
    {
      "metadata": {
        "id": "RmsrLyAsy_4V",
        "colab_type": "code",
        "colab": {
          "autoexec": {
            "startup": false,
            "wait_interval": 0
          },
          "base_uri": "https://localhost:8080/",
          "height": 102
        },
        "outputId": "eda04bb5-5084-4f9b-95a0-fc3bc74b969c",
        "executionInfo": {
          "status": "ok",
          "timestamp": 1527775468866,
          "user_tz": -330,
          "elapsed": 1359,
          "user": {
            "displayName": "Sarthak Vashisht",
            "photoUrl": "//lh5.googleusercontent.com/-1rN51ngNn7Q/AAAAAAAAAAI/AAAAAAAAAAs/NmFuFNKqIGM/s50-c-k-no/photo.jpg",
            "userId": "104817971489841175541"
          }
        }
      },
      "cell_type": "code",
      "source": [
        "reg2.fit(Xtrain, Ytrain)"
      ],
      "execution_count": 280,
      "outputs": [
        {
          "output_type": "execute_result",
          "data": {
            "text/plain": [
              "DecisionTreeRegressor(criterion='mse', max_depth=2, max_features=None,\n",
              "           max_leaf_nodes=None, min_impurity_decrease=0.0,\n",
              "           min_impurity_split=None, min_samples_leaf=1,\n",
              "           min_samples_split=2, min_weight_fraction_leaf=0.0,\n",
              "           presort=False, random_state=None, splitter='best')"
            ]
          },
          "metadata": {
            "tags": []
          },
          "execution_count": 280
        }
      ]
    },
    {
      "metadata": {
        "id": "a6PryEGNy_4l",
        "colab_type": "code",
        "colab": {
          "autoexec": {
            "startup": false,
            "wait_interval": 0
          },
          "base_uri": "https://localhost:8080/",
          "height": 34
        },
        "outputId": "15ef56b4-1c25-421d-b0de-c0d46e0a5747",
        "executionInfo": {
          "status": "ok",
          "timestamp": 1527775471702,
          "user_tz": -330,
          "elapsed": 1371,
          "user": {
            "displayName": "Sarthak Vashisht",
            "photoUrl": "//lh5.googleusercontent.com/-1rN51ngNn7Q/AAAAAAAAAAI/AAAAAAAAAAs/NmFuFNKqIGM/s50-c-k-no/photo.jpg",
            "userId": "104817971489841175541"
          }
        }
      },
      "cell_type": "code",
      "source": [
        "reg2.score(Xtest,Ytest)"
      ],
      "execution_count": 281,
      "outputs": [
        {
          "output_type": "execute_result",
          "data": {
            "text/plain": [
              "0.2586575939127318"
            ]
          },
          "metadata": {
            "tags": []
          },
          "execution_count": 281
        }
      ]
    },
    {
      "metadata": {
        "id": "5lQ4YS7vy_40",
        "colab_type": "text"
      },
      "cell_type": "markdown",
      "source": [
        "Random Forest Regressor"
      ]
    },
    {
      "metadata": {
        "id": "w7as54Qvy_41",
        "colab_type": "code",
        "colab": {
          "autoexec": {
            "startup": false,
            "wait_interval": 0
          }
        }
      },
      "cell_type": "code",
      "source": [
        "from sklearn.ensemble import RandomForestRegressor\n",
        "reg3 = RandomForestRegressor(min_samples_split= 5, min_samples_leaf= 20, max_depth=10)"
      ],
      "execution_count": 0,
      "outputs": []
    },
    {
      "metadata": {
        "id": "M8xCBisWy_5D",
        "colab_type": "code",
        "colab": {
          "autoexec": {
            "startup": false,
            "wait_interval": 0
          },
          "base_uri": "https://localhost:8080/",
          "height": 119
        },
        "outputId": "8a85a116-5126-4028-c421-b5926292e064",
        "executionInfo": {
          "status": "ok",
          "timestamp": 1527775477644,
          "user_tz": -330,
          "elapsed": 4607,
          "user": {
            "displayName": "Sarthak Vashisht",
            "photoUrl": "//lh5.googleusercontent.com/-1rN51ngNn7Q/AAAAAAAAAAI/AAAAAAAAAAs/NmFuFNKqIGM/s50-c-k-no/photo.jpg",
            "userId": "104817971489841175541"
          }
        }
      },
      "cell_type": "code",
      "source": [
        "reg3.fit(Xtrain, Ytrain)"
      ],
      "execution_count": 283,
      "outputs": [
        {
          "output_type": "execute_result",
          "data": {
            "text/plain": [
              "RandomForestRegressor(bootstrap=True, criterion='mse', max_depth=10,\n",
              "           max_features='auto', max_leaf_nodes=None,\n",
              "           min_impurity_decrease=0.0, min_impurity_split=None,\n",
              "           min_samples_leaf=20, min_samples_split=5,\n",
              "           min_weight_fraction_leaf=0.0, n_estimators=10, n_jobs=1,\n",
              "           oob_score=False, random_state=None, verbose=0, warm_start=False)"
            ]
          },
          "metadata": {
            "tags": []
          },
          "execution_count": 283
        }
      ]
    },
    {
      "metadata": {
        "id": "hgsviCz5y_5H",
        "colab_type": "code",
        "colab": {
          "autoexec": {
            "startup": false,
            "wait_interval": 0
          },
          "base_uri": "https://localhost:8080/",
          "height": 34
        },
        "outputId": "425e9f56-05af-4fc2-ee50-20495e254643",
        "executionInfo": {
          "status": "ok",
          "timestamp": 1527775478742,
          "user_tz": -330,
          "elapsed": 1050,
          "user": {
            "displayName": "Sarthak Vashisht",
            "photoUrl": "//lh5.googleusercontent.com/-1rN51ngNn7Q/AAAAAAAAAAI/AAAAAAAAAAs/NmFuFNKqIGM/s50-c-k-no/photo.jpg",
            "userId": "104817971489841175541"
          }
        }
      },
      "cell_type": "code",
      "source": [
        "reg3.score(Xtest,Ytest)"
      ],
      "execution_count": 284,
      "outputs": [
        {
          "output_type": "execute_result",
          "data": {
            "text/plain": [
              "0.5438186557228923"
            ]
          },
          "metadata": {
            "tags": []
          },
          "execution_count": 284
        }
      ]
    },
    {
      "metadata": {
        "id": "X-kiU-WDPzj2",
        "colab_type": "code",
        "colab": {
          "autoexec": {
            "startup": false,
            "wait_interval": 0
          }
        }
      },
      "cell_type": "code",
      "source": [
        "from sklearn.model_selection import GridSearchCV\n",
        "from sklearn import model_selection\n"
      ],
      "execution_count": 0,
      "outputs": []
    },
    {
      "metadata": {
        "id": "18pfduPfRF7e",
        "colab_type": "code",
        "colab": {
          "autoexec": {
            "startup": false,
            "wait_interval": 0
          }
        }
      },
      "cell_type": "code",
      "source": [
        "test_data = dft.values"
      ],
      "execution_count": 0,
      "outputs": []
    },
    {
      "metadata": {
        "id": "RFC_xygMP6uU",
        "colab_type": "code",
        "colab": {
          "autoexec": {
            "startup": false,
            "wait_interval": 0
          }
        }
      },
      "cell_type": "code",
      "source": [
        "y_pred = reg3.predict(test_data)"
      ],
      "execution_count": 0,
      "outputs": []
    },
    {
      "metadata": {
        "id": "1qGqlOeMSK4_",
        "colab_type": "code",
        "colab": {
          "autoexec": {
            "startup": false,
            "wait_interval": 0
          }
        }
      },
      "cell_type": "code",
      "source": [
        "np.savetxt(\"Cars_predictions.csv\", y_pred, delimiter= ',')\n",
        "files.download('Cars_predictions.csv')\n"
      ],
      "execution_count": 0,
      "outputs": []
    },
    {
      "metadata": {
        "id": "2I1xmLCZSNG8",
        "colab_type": "code",
        "colab": {
          "autoexec": {
            "startup": false,
            "wait_interval": 0
          }
        }
      },
      "cell_type": "code",
      "source": [
        ""
      ],
      "execution_count": 0,
      "outputs": []
    }
  ]
}